{
 "cells": [
  {
   "cell_type": "code",
   "metadata": {
    "tags": [],
    "cell_id": "00000-72a6673f-e752-4f9b-b581-4ebd23fc0abf",
    "deepnote_to_be_reexecuted": false,
    "source_hash": "8773d069",
    "execution_start": 1638872840953,
    "execution_millis": 4676,
    "deepnote_cell_type": "code"
   },
   "source": "# 1). ----- Import Libraries and Datasets ------\n\nimport pandas as pd\nimport numpy as np\nfrom matplotlib import pyplot as plt\nimport seaborn as sns\nfrom sklearn.feature_extraction.text import CountVectorizer\nfrom sklearn.model_selection import train_test_split\nfrom sklearn.metrics import accuracy_score, confusion_matrix, classification_report\n\n\n# Import Datasets\ndf_seq = pd.read_csv('/work/pdb_data_seq.csv')\ndf_char = pd.read_csv('/work/pdb_data_no_dups.csv')\n\nprint('Datasets have been loaded...')",
   "execution_count": null,
   "outputs": [
    {
     "name": "stdout",
     "text": "Datasets have been loaded...\n",
     "output_type": "stream"
    }
   ]
  },
  {
   "cell_type": "code",
   "metadata": {
    "tags": [],
    "cell_id": "00001-ea081844-b4a5-489a-95be-6079c5bd6433",
    "deepnote_to_be_reexecuted": false,
    "source_hash": "d6c39098",
    "execution_start": 1638872845633,
    "execution_millis": 161,
    "deepnote_cell_type": "code"
   },
   "source": "# 2). ----- Filter and Process Dataset ------\n\n# Filter for only proteins\nprotein_char = df_char[df_char.macromoleculeType == 'Protein']\nprotein_seq = df_seq[df_seq.macromoleculeType == 'Protein']\n\n# Select only necessary variables to join\nprotein_char = protein_char[['structureId','classification']]\nprotein_seq = protein_seq[['structureId','sequence']]\nprotein_seq.head()",
   "execution_count": null,
   "outputs": [
    {
     "output_type": "execute_result",
     "execution_count": 2,
     "data": {
      "application/vnd.deepnote.dataframe.v2+json": {
       "row_count": 5,
       "column_count": 2,
       "columns": [
        {
         "name": "structureId",
         "dtype": "object",
         "stats": {
          "unique_count": 5,
          "nan_count": 0,
          "categories": [
           {
            "name": "101M",
            "count": 1
           },
           {
            "name": "102L",
            "count": 1
           },
           {
            "name": "3 others",
            "count": 3
           }
          ]
         }
        },
        {
         "name": "sequence",
         "dtype": "object",
         "stats": {
          "unique_count": 4,
          "nan_count": 0,
          "categories": [
           {
            "name": "MVLSEGEWQLVLHVWAKVEADVAGHGQDILIRLFKSHPETLEKFDRFKHLKTEAEMKASEDLKKAGVTVLTALGAILKKKGHHEAELKPLAQSHATKHKIPIKYLEFISEAIIHVLHSRHPGNFGADAQGAMNKALELFRKDIAAKYKELGYQG",
            "count": 2
           },
           {
            "name": "MVLSEGEWQLVLHVWAKVEADVAGHGQDILIRLFKSHPETLEKFDRVKHLKTEAEMKASEDLKKHGVTVLTALGAILKKKGHHEAELKPLAQSHATKHKIPIKYLEFISEAIIHVLHSRHPGNFGADAQGAMNKALELFRKDIAAKYKELGYQG",
            "count": 1
           },
           {
            "name": "2 others",
            "count": 2
           }
          ]
         }
        },
        {
         "name": "_deepnote_index_column",
         "dtype": "int64"
        }
       ],
       "rows_top": [
        {
         "structureId": "101M",
         "sequence": "MVLSEGEWQLVLHVWAKVEADVAGHGQDILIRLFKSHPETLEKFDRVKHLKTEAEMKASEDLKKHGVTVLTALGAILKKKGHHEAELKPLAQSHATKHK…",
         "_deepnote_index_column": 4
        },
        {
         "structureId": "102L",
         "sequence": "MNIFEMLRIDEGLRLKIYKDTEGYYTIGIGHLLTKSPSLNAAAKSELDKAIGRNTNGVITKDEAEKLFNQDVDAAVRGILRNAKLKPVYDSLDAVRRAA…",
         "_deepnote_index_column": 7
        },
        {
         "structureId": "102M",
         "sequence": "MVLSEGEWQLVLHVWAKVEADVAGHGQDILIRLFKSHPETLEKFDRFKHLKTEAEMKASEDLKKAGVTVLTALGAILKKKGHHEAELKPLAQSHATKHK…",
         "_deepnote_index_column": 8
        },
        {
         "structureId": "103L",
         "sequence": "MNIFEMLRIDEGLRLKIYKDTEGYYTIGIGHLLTKSPSLNSLDAAKSELDKAIGRNTNGVITKDEAEKLFNQDVDAAVRGILRNAKLKPVYDSLDAVRR…",
         "_deepnote_index_column": 11
        },
        {
         "structureId": "103M",
         "sequence": "MVLSEGEWQLVLHVWAKVEADVAGHGQDILIRLFKSHPETLEKFDRFKHLKTEAEMKASEDLKKAGVTVLTALGAILKKKGHHEAELKPLAQSHATKHK…",
         "_deepnote_index_column": 12
        }
       ],
       "rows_bottom": null
      },
      "text/plain": "   structureId                                           sequence\n4         101M  MVLSEGEWQLVLHVWAKVEADVAGHGQDILIRLFKSHPETLEKFDR...\n7         102L  MNIFEMLRIDEGLRLKIYKDTEGYYTIGIGHLLTKSPSLNAAAKSE...\n8         102M  MVLSEGEWQLVLHVWAKVEADVAGHGQDILIRLFKSHPETLEKFDR...\n11        103L  MNIFEMLRIDEGLRLKIYKDTEGYYTIGIGHLLTKSPSLNSLDAAK...\n12        103M  MVLSEGEWQLVLHVWAKVEADVAGHGQDILIRLFKSHPETLEKFDR...",
      "text/html": "<div>\n<style scoped>\n    .dataframe tbody tr th:only-of-type {\n        vertical-align: middle;\n    }\n\n    .dataframe tbody tr th {\n        vertical-align: top;\n    }\n\n    .dataframe thead th {\n        text-align: right;\n    }\n</style>\n<table border=\"1\" class=\"dataframe\">\n  <thead>\n    <tr style=\"text-align: right;\">\n      <th></th>\n      <th>structureId</th>\n      <th>sequence</th>\n    </tr>\n  </thead>\n  <tbody>\n    <tr>\n      <th>4</th>\n      <td>101M</td>\n      <td>MVLSEGEWQLVLHVWAKVEADVAGHGQDILIRLFKSHPETLEKFDR...</td>\n    </tr>\n    <tr>\n      <th>7</th>\n      <td>102L</td>\n      <td>MNIFEMLRIDEGLRLKIYKDTEGYYTIGIGHLLTKSPSLNAAAKSE...</td>\n    </tr>\n    <tr>\n      <th>8</th>\n      <td>102M</td>\n      <td>MVLSEGEWQLVLHVWAKVEADVAGHGQDILIRLFKSHPETLEKFDR...</td>\n    </tr>\n    <tr>\n      <th>11</th>\n      <td>103L</td>\n      <td>MNIFEMLRIDEGLRLKIYKDTEGYYTIGIGHLLTKSPSLNSLDAAK...</td>\n    </tr>\n    <tr>\n      <th>12</th>\n      <td>103M</td>\n      <td>MVLSEGEWQLVLHVWAKVEADVAGHGQDILIRLFKSHPETLEKFDR...</td>\n    </tr>\n  </tbody>\n</table>\n</div>"
     },
     "metadata": {}
    }
   ]
  },
  {
   "cell_type": "code",
   "metadata": {
    "tags": [],
    "cell_id": "00002-33495470-e9b8-4816-b419-c55ff3a01901",
    "deepnote_to_be_reexecuted": false,
    "source_hash": "69eec135",
    "execution_start": 1638872845797,
    "execution_millis": 51,
    "deepnote_cell_type": "code"
   },
   "source": "protein_char.head()",
   "execution_count": null,
   "outputs": [
    {
     "output_type": "execute_result",
     "execution_count": 3,
     "data": {
      "application/vnd.deepnote.dataframe.v2+json": {
       "row_count": 5,
       "column_count": 2,
       "columns": [
        {
         "name": "structureId",
         "dtype": "object",
         "stats": {
          "unique_count": 5,
          "nan_count": 0,
          "categories": [
           {
            "name": "101M",
            "count": 1
           },
           {
            "name": "102L",
            "count": 1
           },
           {
            "name": "3 others",
            "count": 3
           }
          ]
         }
        },
        {
         "name": "classification",
         "dtype": "object",
         "stats": {
          "unique_count": 2,
          "nan_count": 0,
          "categories": [
           {
            "name": "OXYGEN TRANSPORT",
            "count": 3
           },
           {
            "name": "HYDROLASE(O-GLYCOSYL)",
            "count": 2
           }
          ]
         }
        },
        {
         "name": "_deepnote_index_column",
         "dtype": "int64"
        }
       ],
       "rows_top": [
        {
         "structureId": "101M",
         "classification": "OXYGEN TRANSPORT",
         "_deepnote_index_column": 2
        },
        {
         "structureId": "102L",
         "classification": "HYDROLASE(O-GLYCOSYL)",
         "_deepnote_index_column": 4
        },
        {
         "structureId": "102M",
         "classification": "OXYGEN TRANSPORT",
         "_deepnote_index_column": 5
        },
        {
         "structureId": "103L",
         "classification": "HYDROLASE(O-GLYCOSYL)",
         "_deepnote_index_column": 7
        },
        {
         "structureId": "103M",
         "classification": "OXYGEN TRANSPORT",
         "_deepnote_index_column": 8
        }
       ],
       "rows_bottom": null
      },
      "text/plain": "  structureId         classification\n2        101M       OXYGEN TRANSPORT\n4        102L  HYDROLASE(O-GLYCOSYL)\n5        102M       OXYGEN TRANSPORT\n7        103L  HYDROLASE(O-GLYCOSYL)\n8        103M       OXYGEN TRANSPORT",
      "text/html": "<div>\n<style scoped>\n    .dataframe tbody tr th:only-of-type {\n        vertical-align: middle;\n    }\n\n    .dataframe tbody tr th {\n        vertical-align: top;\n    }\n\n    .dataframe thead th {\n        text-align: right;\n    }\n</style>\n<table border=\"1\" class=\"dataframe\">\n  <thead>\n    <tr style=\"text-align: right;\">\n      <th></th>\n      <th>structureId</th>\n      <th>classification</th>\n    </tr>\n  </thead>\n  <tbody>\n    <tr>\n      <th>2</th>\n      <td>101M</td>\n      <td>OXYGEN TRANSPORT</td>\n    </tr>\n    <tr>\n      <th>4</th>\n      <td>102L</td>\n      <td>HYDROLASE(O-GLYCOSYL)</td>\n    </tr>\n    <tr>\n      <th>5</th>\n      <td>102M</td>\n      <td>OXYGEN TRANSPORT</td>\n    </tr>\n    <tr>\n      <th>7</th>\n      <td>103L</td>\n      <td>HYDROLASE(O-GLYCOSYL)</td>\n    </tr>\n    <tr>\n      <th>8</th>\n      <td>103M</td>\n      <td>OXYGEN TRANSPORT</td>\n    </tr>\n  </tbody>\n</table>\n</div>"
     },
     "metadata": {}
    }
   ]
  },
  {
   "cell_type": "code",
   "metadata": {
    "tags": [],
    "cell_id": "00003-6812628a-570d-40c9-ac5d-61b302c0c65a",
    "deepnote_to_be_reexecuted": false,
    "source_hash": "6a2afb9",
    "execution_start": 1638872845848,
    "execution_millis": 325,
    "deepnote_cell_type": "code"
   },
   "source": "# Join two datasets on structureId\nmodel_f = protein_char.set_index('structureId').join(protein_seq.set_index('structureId'))\nmodel_f.head()\n",
   "execution_count": null,
   "outputs": [
    {
     "output_type": "execute_result",
     "execution_count": 4,
     "data": {
      "application/vnd.deepnote.dataframe.v2+json": {
       "row_count": 5,
       "column_count": 2,
       "columns": [
        {
         "name": "classification",
         "dtype": "object",
         "stats": {
          "unique_count": 2,
          "nan_count": 0,
          "categories": [
           {
            "name": "OXYGEN TRANSPORT",
            "count": 3
           },
           {
            "name": "HYDROLASE(O-GLYCOSYL)",
            "count": 2
           }
          ]
         }
        },
        {
         "name": "sequence",
         "dtype": "object",
         "stats": {
          "unique_count": 4,
          "nan_count": 0,
          "categories": [
           {
            "name": "MVLSEGEWQLVLHVWAKVEADVAGHGQDILIRLFKSHPETLEKFDRFKHLKTEAEMKASEDLKKAGVTVLTALGAILKKKGHHEAELKPLAQSHATKHKIPIKYLEFISEAIIHVLHSRHPGNFGADAQGAMNKALELFRKDIAAKYKELGYQG",
            "count": 2
           },
           {
            "name": "MVLSEGEWQLVLHVWAKVEADVAGHGQDILIRLFKSHPETLEKFDRVKHLKTEAEMKASEDLKKHGVTVLTALGAILKKKGHHEAELKPLAQSHATKHKIPIKYLEFISEAIIHVLHSRHPGNFGADAQGAMNKALELFRKDIAAKYKELGYQG",
            "count": 1
           },
           {
            "name": "2 others",
            "count": 2
           }
          ]
         }
        },
        {
         "name": "_deepnote_index_column",
         "dtype": "object"
        }
       ],
       "rows_top": [
        {
         "classification": "OXYGEN TRANSPORT",
         "sequence": "MVLSEGEWQLVLHVWAKVEADVAGHGQDILIRLFKSHPETLEKFDRVKHLKTEAEMKASEDLKKHGVTVLTALGAILKKKGHHEAELKPLAQSHATKHK…",
         "_deepnote_index_column": "101M"
        },
        {
         "classification": "HYDROLASE(O-GLYCOSYL)",
         "sequence": "MNIFEMLRIDEGLRLKIYKDTEGYYTIGIGHLLTKSPSLNAAAKSELDKAIGRNTNGVITKDEAEKLFNQDVDAAVRGILRNAKLKPVYDSLDAVRRAA…",
         "_deepnote_index_column": "102L"
        },
        {
         "classification": "OXYGEN TRANSPORT",
         "sequence": "MVLSEGEWQLVLHVWAKVEADVAGHGQDILIRLFKSHPETLEKFDRFKHLKTEAEMKASEDLKKAGVTVLTALGAILKKKGHHEAELKPLAQSHATKHK…",
         "_deepnote_index_column": "102M"
        },
        {
         "classification": "HYDROLASE(O-GLYCOSYL)",
         "sequence": "MNIFEMLRIDEGLRLKIYKDTEGYYTIGIGHLLTKSPSLNSLDAAKSELDKAIGRNTNGVITKDEAEKLFNQDVDAAVRGILRNAKLKPVYDSLDAVRR…",
         "_deepnote_index_column": "103L"
        },
        {
         "classification": "OXYGEN TRANSPORT",
         "sequence": "MVLSEGEWQLVLHVWAKVEADVAGHGQDILIRLFKSHPETLEKFDRFKHLKTEAEMKASEDLKKAGVTVLTALGAILKKKGHHEAELKPLAQSHATKHK…",
         "_deepnote_index_column": "103M"
        }
       ],
       "rows_bottom": null
      },
      "text/plain": "                    classification  \\\nstructureId                          \n101M              OXYGEN TRANSPORT   \n102L         HYDROLASE(O-GLYCOSYL)   \n102M              OXYGEN TRANSPORT   \n103L         HYDROLASE(O-GLYCOSYL)   \n103M              OXYGEN TRANSPORT   \n\n                                                      sequence  \nstructureId                                                     \n101M         MVLSEGEWQLVLHVWAKVEADVAGHGQDILIRLFKSHPETLEKFDR...  \n102L         MNIFEMLRIDEGLRLKIYKDTEGYYTIGIGHLLTKSPSLNAAAKSE...  \n102M         MVLSEGEWQLVLHVWAKVEADVAGHGQDILIRLFKSHPETLEKFDR...  \n103L         MNIFEMLRIDEGLRLKIYKDTEGYYTIGIGHLLTKSPSLNSLDAAK...  \n103M         MVLSEGEWQLVLHVWAKVEADVAGHGQDILIRLFKSHPETLEKFDR...  ",
      "text/html": "<div>\n<style scoped>\n    .dataframe tbody tr th:only-of-type {\n        vertical-align: middle;\n    }\n\n    .dataframe tbody tr th {\n        vertical-align: top;\n    }\n\n    .dataframe thead th {\n        text-align: right;\n    }\n</style>\n<table border=\"1\" class=\"dataframe\">\n  <thead>\n    <tr style=\"text-align: right;\">\n      <th></th>\n      <th>classification</th>\n      <th>sequence</th>\n    </tr>\n    <tr>\n      <th>structureId</th>\n      <th></th>\n      <th></th>\n    </tr>\n  </thead>\n  <tbody>\n    <tr>\n      <th>101M</th>\n      <td>OXYGEN TRANSPORT</td>\n      <td>MVLSEGEWQLVLHVWAKVEADVAGHGQDILIRLFKSHPETLEKFDR...</td>\n    </tr>\n    <tr>\n      <th>102L</th>\n      <td>HYDROLASE(O-GLYCOSYL)</td>\n      <td>MNIFEMLRIDEGLRLKIYKDTEGYYTIGIGHLLTKSPSLNAAAKSE...</td>\n    </tr>\n    <tr>\n      <th>102M</th>\n      <td>OXYGEN TRANSPORT</td>\n      <td>MVLSEGEWQLVLHVWAKVEADVAGHGQDILIRLFKSHPETLEKFDR...</td>\n    </tr>\n    <tr>\n      <th>103L</th>\n      <td>HYDROLASE(O-GLYCOSYL)</td>\n      <td>MNIFEMLRIDEGLRLKIYKDTEGYYTIGIGHLLTKSPSLNSLDAAK...</td>\n    </tr>\n    <tr>\n      <th>103M</th>\n      <td>OXYGEN TRANSPORT</td>\n      <td>MVLSEGEWQLVLHVWAKVEADVAGHGQDILIRLFKSHPETLEKFDR...</td>\n    </tr>\n  </tbody>\n</table>\n</div>"
     },
     "metadata": {}
    }
   ]
  },
  {
   "cell_type": "code",
   "metadata": {
    "tags": [],
    "cell_id": "00004-554c2781-920f-41c0-a1c1-e73a86e3fee6",
    "deepnote_to_be_reexecuted": false,
    "source_hash": "7e7f2f5c",
    "execution_start": 1638872846221,
    "execution_millis": 57,
    "deepnote_cell_type": "code"
   },
   "source": "model_f = model_f.dropna()\n",
   "execution_count": null,
   "outputs": []
  },
  {
   "cell_type": "code",
   "metadata": {
    "tags": [],
    "cell_id": "00005-22d57baa-4c52-4b9a-ba0a-01d191392bb4",
    "deepnote_to_be_reexecuted": false,
    "source_hash": "73e737fb",
    "execution_start": 1638872846306,
    "execution_millis": 33,
    "deepnote_cell_type": "code"
   },
   "source": "# Look at classification type counts\ncounts = model_f.classification.value_counts()\n",
   "execution_count": null,
   "outputs": []
  },
  {
   "cell_type": "code",
   "metadata": {
    "tags": [],
    "cell_id": "00006-207ec77a-5bbb-4db2-a555-c98ec4ae27d5",
    "deepnote_to_be_reexecuted": false,
    "source_hash": "c2624162",
    "execution_start": 1638872846346,
    "execution_millis": 38,
    "deepnote_cell_type": "code"
   },
   "source": "# Get classification types where counts are over 1000\ntypes = np.asarray(counts[(counts > 1000)].index)\n\n# Filter dataset's records for classification types > 1000\ndata = model_f[model_f.classification.isin(types)]\n\nprint(types)\nprint('%d is the number of records in the final filtered dataset' %data.shape[0])\n",
   "execution_count": null,
   "outputs": [
    {
     "name": "stdout",
     "text": "['HYDROLASE' 'TRANSFERASE' 'OXIDOREDUCTASE' 'IMMUNE SYSTEM' 'LYASE'\n 'HYDROLASE/HYDROLASE INHIBITOR' 'TRANSCRIPTION' 'VIRAL PROTEIN'\n 'TRANSPORT PROTEIN' 'VIRUS' 'SIGNALING PROTEIN' 'ISOMERASE' 'LIGASE'\n 'MEMBRANE PROTEIN' 'PROTEIN BINDING' 'STRUCTURAL PROTEIN' 'CHAPERONE'\n 'STRUCTURAL GENOMICS, UNKNOWN FUNCTION' 'SUGAR BINDING PROTEIN'\n 'DNA BINDING PROTEIN' 'PHOTOSYNTHESIS' 'ELECTRON TRANSPORT'\n 'TRANSFERASE/TRANSFERASE INHIBITOR' 'METAL BINDING PROTEIN'\n 'CELL ADHESION' 'UNKNOWN FUNCTION' 'PROTEIN TRANSPORT' 'TOXIN'\n 'CELL CYCLE' 'RNA BINDING PROTEIN' 'DE NOVO PROTEIN' 'HORMONE'\n 'GENE REGULATION' 'OXIDOREDUCTASE/OXIDOREDUCTASE INHIBITOR' 'APOPTOSIS'\n 'MOTOR PROTEIN' 'PROTEIN FIBRIL' 'METAL TRANSPORT'\n 'VIRAL PROTEIN/IMMUNE SYSTEM' 'CONTRACTILE PROTEIN' 'FLUORESCENT PROTEIN'\n 'TRANSLATION' 'BIOSYNTHETIC PROTEIN']\n278866 is the number of records in the final filtered dataset\n",
     "output_type": "stream"
    }
   ]
  },
  {
   "cell_type": "code",
   "metadata": {
    "tags": [],
    "cell_id": "00007-a33ad8fa-c7e1-4154-a34f-22b58719e75b",
    "deepnote_to_be_reexecuted": false,
    "source_hash": "6bc5a8c0",
    "execution_start": 1638872846448,
    "execution_millis": 153620,
    "deepnote_cell_type": "code"
   },
   "source": "# 3). ----- Train Test Split -----\n\n# Split Data\nX_train, X_test,y_train,y_test = train_test_split(data['sequence'], data['classification'], test_size = 0.2, random_state = 1)\n\n# Create a Count Vectorizer to gather the unique elements in sequence\nvect = CountVectorizer(analyzer = 'char_wb', ngram_range = (4,4), max_features = 165)\n\n# Fit and Transform CountVectorizer\nvect.fit(X_train)\nX_train_df = vect.transform(X_train)\nX_test_df = vect.transform(X_test)\n\n#X_train_df = X_train\n#X_test_df = X_test\n\n#Print a few of the features\nprint(vect.get_feature_names()[-20:])",
   "execution_count": null,
   "outputs": [
    {
     "name": "stdout",
     "text": "['tilk', 'tlee', 'tllv', 'tlqe', 'tlra', 'tltl', 'tsgg', 'tstl', 'tvgg', 'vaaa', 'vaag', 'vaal', 'vdlg', 'veal', 'veel', 'vlaa', 'vprg', 'vtvs', 'xxxx', 'yfqs']\n/shared-libs/python3.7/py/lib/python3.7/site-packages/sklearn/utils/deprecation.py:87: FutureWarning: Function get_feature_names is deprecated; get_feature_names is deprecated in 1.0 and will be removed in 1.2. Please use get_feature_names_out instead.\n  warnings.warn(msg, category=FutureWarning)\n",
     "output_type": "stream"
    }
   ]
  },
  {
   "cell_type": "code",
   "metadata": {
    "tags": [],
    "cell_id": "00008-816c6e41-3a44-4336-a7a9-1c57e98e146a",
    "deepnote_to_be_reexecuted": false,
    "source_hash": "c0d38649",
    "execution_start": 1638873000066,
    "execution_millis": 1457,
    "deepnote_cell_type": "code"
   },
   "source": "# 4). ------ Machine Learning Models ------\n\n# Make a prediction dictionary to store accuracys\nprediction = dict()\n\n# Naive Bayes Model\nfrom sklearn.naive_bayes import MultinomialNB\nmodel = MultinomialNB()\nmodel.fit(X_train_df, y_train)\nNB_pred = model.predict(X_test_df)\nprediction[\"MultinomialNB\"] = accuracy_score(NB_pred, y_test)\nprint( prediction['MultinomialNB'])\n",
   "execution_count": null,
   "outputs": [
    {
     "name": "stdout",
     "text": "0.19634596765517984\n",
     "output_type": "stream"
    }
   ]
  },
  {
   "cell_type": "code",
   "metadata": {
    "tags": [],
    "cell_id": "00010-fbf3071f-c79e-48b2-b3dd-1111759288bf",
    "deepnote_to_be_reexecuted": false,
    "source_hash": "a77d4e44",
    "execution_start": 1638873001539,
    "execution_millis": 11,
    "deepnote_output_heights": [
     606.453125
    ],
    "deepnote_cell_type": "code"
   },
   "source": "# sample input\ninput12 = [\"MNIFEMLRIDEGLRLKIYKDTEGYYTIGIGHLLTKSPSLNAAKSAAELDKAIGRNTNGVITKDEAEKLFNQDVDAAVRGILRNAKLKPVYDSLDAVRRAALINMVFQMGETGVAGFTNSLRMLQQKRWDEAAVNLAKSRWYNQTPNRAKRVITTFRTGTWDAYKNL\"]\n\n# use the Count Vectorizer on the input\nvect.fit(input12)\ntestingforme = vect.transform(input12)\n\n# put out the model prediction\n\nprint(model.predict(testingforme)[0])",
   "execution_count": null,
   "outputs": [
    {
     "name": "stdout",
     "text": "HYDROLASE\n",
     "output_type": "stream"
    }
   ]
  },
  {
   "cell_type": "markdown",
   "source": "![Picture title](image-20211207-032528.png)",
   "metadata": {
    "tags": [],
    "cell_id": "00011-29373517-ce22-4bb6-8da4-613d15fe1c2c",
    "deepnote_cell_type": "markdown"
   }
  },
  {
   "cell_type": "markdown",
   "source": "![Picture title](image-20211207-025852.png)",
   "metadata": {
    "tags": [],
    "cell_id": "00011-a0f08f2c-4c37-413e-ab23-fe48b7827beb",
    "deepnote_cell_type": "markdown"
   }
  },
  {
   "cell_type": "code",
   "metadata": {
    "tags": [],
    "cell_id": "00009-3ef4a2dc-c0f7-4e12-ad67-017c01ba446a",
    "deepnote_to_be_reexecuted": false,
    "source_hash": "8bb476f9",
    "execution_start": 1638873001550,
    "execution_millis": 64970,
    "deepnote_cell_type": "code"
   },
   "source": "# Adaboost\nfrom sklearn.ensemble import AdaBoostClassifier\nmodel = AdaBoostClassifier()\nmodel.fit(X_train_df,y_train)\nADA_pred = model.predict(X_test_df)\nprediction[\"Adaboost\"] = accuracy_score(ADA_pred , y_test)\nprint(prediction[\"Adaboost\"])\n",
   "execution_count": null,
   "outputs": [
    {
     "name": "stdout",
     "text": "0.1982106357801126\n",
     "output_type": "stream"
    }
   ]
  },
  {
   "cell_type": "code",
   "metadata": {
    "tags": [],
    "cell_id": "00014-9d7598ed-a2cb-47a5-bacb-bca97d21b697",
    "deepnote_to_be_reexecuted": false,
    "source_hash": "adb38848",
    "execution_start": 1638873066519,
    "execution_millis": 28,
    "deepnote_cell_type": "code"
   },
   "source": "print(model.predict(testingforme)[0])",
   "execution_count": null,
   "outputs": [
    {
     "name": "stdout",
     "text": "TRANSFERASE\n",
     "output_type": "stream"
    }
   ]
  },
  {
   "cell_type": "code",
   "metadata": {
    "tags": [],
    "cell_id": "00011-5c21d46d-0c2b-4050-97dd-f3c9df2f89a8",
    "deepnote_to_be_reexecuted": false,
    "source_hash": "67ca0508",
    "execution_start": 1638873066551,
    "execution_millis": 3,
    "deepnote_cell_type": "code"
   },
   "source": "print(X_test)",
   "execution_count": null,
   "outputs": [
    {
     "name": "stdout",
     "text": "structureId\n3J7I    MRECISIHVGQAGVQIGNACWELYCLEHGIQPDGQMPSDKTIGGGD...\n5U58    MDVRTLAVGKAHLEALLATRKMTLEHLQDVRHDATQVYFDGLEHLQ...\n5T4P    MENLNMDLLYMAAAVMMGLAAIGAAIGIGILGGKFLEGAARQPDLI...\n4XQ3    GAMDMQAKVENPLKSLRTAINRIVLVKLKDGSEYIGKLEQTDGTMN...\n2WBI    SMSKRTFSTVLPQIDTTGQLFVQTRKGQEVLIKVKHFMKQHILPAE...\n                              ...                        \n1QUQ    MVDMMDLPRSRINAGMLAQFIDKPVCFVGRLEKIHPTGKMFILSDG...\n2CLZ    IQKTPQIQVYSRHPPENGKPNILNCYVTQFHPPHIEIQMLKNGKKI...\n5SXU    APADNAADARPVDVSVSIFINKIYGVNTLEQTYKVDGYIVAQWTGK...\n2Q5R    MGSSHHHHHHSSGLVPRGSHMILTLTLNPSVDISYPLTALKLDDVN...\n3FOW    MALDNLLRHLKISKEQITPVVLVVGDPGRVDKIKVVCDSYVDLAYN...\nName: sequence, Length: 55774, dtype: object\n",
     "output_type": "stream"
    }
   ]
  },
  {
   "cell_type": "code",
   "metadata": {
    "tags": [],
    "cell_id": "00010-597eaf5e-b13c-4947-b845-ba136d3d6fef",
    "deepnote_to_be_reexecuted": false,
    "source_hash": "fe2801a1",
    "execution_start": 1638873066600,
    "execution_millis": 2275,
    "deepnote_cell_type": "code"
   },
   "source": "print(classification_report(y_test, NB_pred, target_names = types))",
   "execution_count": null,
   "outputs": [
    {
     "name": "stdout",
     "text": "                                         precision    recall  f1-score   support\n\n                              HYDROLASE       0.03      0.03      0.03       250\n                            TRANSFERASE       0.23      0.06      0.09       211\n                         OXIDOREDUCTASE       0.05      0.06      0.06       589\n                          IMMUNE SYSTEM       0.19      0.07      0.10       509\n                                  LYASE       0.34      0.21      0.26       859\n          HYDROLASE/HYDROLASE INHIBITOR       0.33      0.43      0.38       224\n                          TRANSCRIPTION       0.16      0.21      0.18       326\n                          VIRAL PROTEIN       0.02      0.01      0.02       622\n                      TRANSPORT PROTEIN       0.00      0.00      0.00       601\n                                  VIRUS       0.09      0.27      0.13       209\n                      SIGNALING PROTEIN       0.12      0.42      0.19       309\n                              ISOMERASE       0.38      0.43      0.40       293\n                                 LIGASE       0.18      0.53      0.27      9274\n                       MEMBRANE PROTEIN       0.33      0.44      0.37      2228\n                        PROTEIN BINDING       0.35      0.45      0.39      3204\n                     STRUCTURAL PROTEIN       0.11      0.03      0.05      1312\n                              CHAPERONE       0.11      0.01      0.03       963\n  STRUCTURAL GENOMICS, UNKNOWN FUNCTION       0.20      0.20      0.20      2324\n                  SUGAR BINDING PROTEIN       0.00      0.00      0.00       991\n                    DNA BINDING PROTEIN       0.05      0.03      0.04       607\n                         PHOTOSYNTHESIS       0.97      0.13      0.23       237\n                     ELECTRON TRANSPORT       0.08      0.00      0.01       251\n      TRANSFERASE/TRANSFERASE INHIBITOR       0.27      0.08      0.12      6895\n                  METAL BINDING PROTEIN       0.22      0.08      0.12       308\n                          CELL ADHESION       0.88      0.26      0.40       686\n                       UNKNOWN FUNCTION       0.06      0.01      0.02       953\n                      PROTEIN TRANSPORT       0.41      0.39      0.40       269\n                                  TOXIN       0.09      0.01      0.02       526\n                             CELL CYCLE       0.09      0.07      0.08       396\n                    RNA BINDING PROTEIN       0.00      0.00      0.00      1284\n                        DE NOVO PROTEIN       0.07      0.23      0.11       710\n                                HORMONE       0.00      0.00      0.00       884\n                        GENE REGULATION       0.09      0.05      0.06       690\nOXIDOREDUCTASE/OXIDOREDUCTASE INHIBITOR       0.06      0.03      0.04       541\n                              APOPTOSIS       0.11      0.09      0.10      1652\n                          MOTOR PROTEIN       0.31      0.02      0.04      7262\n                         PROTEIN FIBRIL       0.16      0.07      0.10       614\n                        METAL TRANSPORT       0.00      0.00      0.00       209\n            VIRAL PROTEIN/IMMUNE SYSTEM       0.17      0.09      0.12      1641\n                    CONTRACTILE PROTEIN       0.02      0.05      0.03       583\n                    FLUORESCENT PROTEIN       0.20      0.11      0.14      1703\n                            TRANSLATION       0.00      0.00      0.00       224\n                   BIOSYNTHETIC PROTEIN       0.22      0.40      0.29      1351\n\n                               accuracy                           0.20     55774\n                              macro avg       0.18      0.14      0.13     55774\n                           weighted avg       0.21      0.20      0.16     55774\n\n",
     "output_type": "stream"
    }
   ]
  },
  {
   "cell_type": "markdown",
   "source": "\"![Picture title](image-20211207-024057.png)",
   "metadata": {
    "tags": [],
    "cell_id": "00014-08432293-ec33-4e2d-966f-d77062a697a4",
    "deepnote_cell_type": "markdown"
   }
  },
  {
   "cell_type": "markdown",
   "source": "![Picture title](image-20211207-023201.png)",
   "metadata": {
    "tags": [],
    "cell_id": "00013-bf6df6d6-93d5-49d7-86ed-d00fd394d06c",
    "deepnote_cell_type": "markdown"
   }
  },
  {
   "cell_type": "markdown",
   "source": "![Picture title](image-20211207-023134.png)",
   "metadata": {
    "tags": [],
    "cell_id": "00013-a64c73f1-dbd2-416b-ae0f-d72d4163f17c",
    "deepnote_cell_type": "markdown"
   }
  },
  {
   "cell_type": "code",
   "metadata": {
    "tags": [],
    "cell_id": "00011-85da2b18-c8c1-4d23-8b39-dbdf3c9b337d",
    "deepnote_to_be_reexecuted": false,
    "source_hash": "23013d94",
    "execution_start": 1638873068886,
    "execution_millis": 11161,
    "deepnote_cell_type": "code"
   },
   "source": "# install anvil\n\n!pip install anvil-uplink",
   "execution_count": null,
   "outputs": [
    {
     "name": "stdout",
     "text": "Collecting anvil-uplink\n  Downloading anvil_uplink-0.3.41-py2.py3-none-any.whl (64 kB)\n\u001b[K     |████████████████████████████████| 64 kB 5.9 MB/s \n\u001b[?25hCollecting ws4py\n  Downloading ws4py-0.5.1.tar.gz (51 kB)\n\u001b[K     |████████████████████████████████| 51 kB 438 kB/s \n\u001b[?25hCollecting argparse\n  Downloading argparse-1.4.0-py2.py3-none-any.whl (23 kB)\nRequirement already satisfied: six in /shared-libs/python3.7/py-core/lib/python3.7/site-packages (from anvil-uplink) (1.16.0)\nRequirement already satisfied: future in /shared-libs/python3.7/py/lib/python3.7/site-packages (from anvil-uplink) (0.18.2)\nBuilding wheels for collected packages: ws4py\n  Building wheel for ws4py (setup.py) ... \u001b[?25ldone\n\u001b[?25h  Created wheel for ws4py: filename=ws4py-0.5.1-py3-none-any.whl size=45217 sha256=f1f3105a6616bce1a70302c50dcdea90c1b23e1904a8e1e3996de3a688554197\n  Stored in directory: /root/.cache/pip/wheels/29/ea/7d/3410aa0aa0e4402ead9a7a97ab2214804887e0f5c2b76f0c96\nSuccessfully built ws4py\nInstalling collected packages: ws4py, argparse, anvil-uplink\nSuccessfully installed anvil-uplink-0.3.41 argparse-1.4.0 ws4py-0.5.1\n\u001b[33mWARNING: You are using pip version 20.1.1; however, version 21.3.1 is available.\nYou should consider upgrading via the '/root/venv/bin/python -m pip install --upgrade pip' command.\u001b[0m\n",
     "output_type": "stream"
    }
   ]
  },
  {
   "cell_type": "code",
   "metadata": {
    "tags": [],
    "cell_id": "00012-539d3c9e-3e6a-4826-bf78-7d83d0d4f49b",
    "deepnote_to_be_reexecuted": false,
    "source_hash": "d4c258b",
    "execution_start": 1638873080056,
    "execution_millis": 421,
    "deepnote_cell_type": "code"
   },
   "source": "# connect to anvil\n\nimport anvil.server\n\nanvil.server.connect(\"IO5CL3WI5XJOK5RCR3BW7OCW-FF7FCRJBKEBP2N5S\")\n",
   "execution_count": null,
   "outputs": [
    {
     "name": "stdout",
     "text": "Connecting to wss://anvil.works/uplink\nAnvil websocket open\nConnected to \"Default environment\" as SERVER\n",
     "output_type": "stream"
    }
   ]
  },
  {
   "cell_type": "code",
   "metadata": {
    "tags": [],
    "cell_id": "00013-06ecb7bd-5ebf-4d51-b666-9b971106ea77",
    "deepnote_to_be_reexecuted": false,
    "source_hash": "d7ceee29",
    "execution_start": 1638873080488,
    "execution_millis": 2,
    "deepnote_cell_type": "code"
   },
   "source": "# take in the input from Anvil and run it through the model\n\nimport anvil.media\n\n@anvil.server.callable\ndef classify_protein(sequence_input):\n\n    sequence_list = []\n\n    if (type(sequence_input) == str):\n        sequence_list.append(sequence_input)\n        vect.fit(sequence_list)\n        final_fit = vect.transform(sequence_list)\n    \n\n    score = model.predict(final_fit)[0]\n\n    return score",
   "execution_count": null,
   "outputs": []
  },
  {
   "cell_type": "markdown",
   "source": "<a style='text-decoration:none;line-height:16px;display:flex;color:#5B5B62;padding:10px;justify-content:end;' href='https://deepnote.com?utm_source=created-in-deepnote-cell&projectId=d08c32ac-6fc1-4441-b12d-cc77c2d43474' target=\"_blank\">\n<img alt='Created in deepnote.com' style='display:inline;max-height:16px;margin:0px;margin-right:7.5px;' src='data:image/svg+xml;base64,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' > </img>\nCreated in <span style='font-weight:600;margin-left:4px;'>Deepnote</span></a>",
   "metadata": {
    "tags": [],
    "created_in_deepnote_cell": true,
    "deepnote_cell_type": "markdown"
   }
  }
 ],
 "nbformat": 4,
 "nbformat_minor": 2,
 "metadata": {
  "orig_nbformat": 2,
  "deepnote": {
   "is_reactive": false
  },
  "deepnote_notebook_id": "dd23b9f1-5ff2-41e5-a390-3e764448bd05",
  "deepnote_execution_queue": []
 }
}